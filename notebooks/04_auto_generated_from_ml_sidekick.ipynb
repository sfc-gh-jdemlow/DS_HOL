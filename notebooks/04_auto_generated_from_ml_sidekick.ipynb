{
 "cells": [
  {
   "cell_type": "markdown",
   "id": "3fd1f78c",
   "metadata": {},
   "source": [
    "# Snowpark ML - QuickChurnModelNotebok_ML_SIDEKICK"
   ]
  },
  {
   "cell_type": "markdown",
   "id": "959223f9",
   "metadata": {},
   "source": [
    "### Imports"
   ]
  },
  {
   "cell_type": "code",
   "execution_count": null,
   "id": "88047a89",
   "metadata": {},
   "outputs": [],
   "source": [
    "from snowflake.snowpark.context import get_active_session\n",
    "from snowflake.ml.modeling.pipeline import Pipeline\n",
    "from snowflake.ml.registry import Registry\n",
    "from numpy import nan, array\n",
    "from snowflake.ml.modeling.preprocessing.standard_scaler import StandardScaler\n",
    "from snowflake.ml.modeling.xgboost.xgb_classifier import XGBClassifier"
   ]
  },
  {
   "cell_type": "markdown",
   "id": "9ae9b04e",
   "metadata": {},
   "source": [
    "Establish a Snowpark session."
   ]
  },
  {
   "cell_type": "code",
   "execution_count": null,
   "id": "e0f4b10f",
   "metadata": {},
   "outputs": [],
   "source": [
    "session = get_active_session()"
   ]
  },
  {
   "cell_type": "markdown",
   "id": "09325f6b",
   "metadata": {},
   "source": [
    "Establish training DataFrame.\n",
    "\n",
    "Consider using [`random_split`](https://docs.snowflake.com/developer-guide/snowpark/reference/python/latest/snowpark/api/snowflake.snowpark.DataFrame.random_split)\n",
    "if your data is not already split or [`sample_by`](https://docs.snowflake.com/developer-guide/snowpark/reference/python/latest/snowpark/api/snowflake.snowpark.DataFrame.sample_by)\n",
    "for stratified sampling."
   ]
  },
  {
   "cell_type": "code",
   "execution_count": null,
   "id": "bc0417cc",
   "metadata": {},
   "outputs": [],
   "source": [
    "train_df = session.table('\"CHURN_PROD\".\"ANALYTICS\".\"TELCO_CHURN_PDF\"')"
   ]
  },
  {
   "cell_type": "markdown",
   "id": "4d5435ad",
   "metadata": {},
   "source": [
    "Preview the DataFrame."
   ]
  },
  {
   "cell_type": "code",
   "execution_count": null,
   "id": "0c1bd94f",
   "metadata": {},
   "outputs": [],
   "source": [
    "train_df.show()"
   ]
  },
  {
   "cell_type": "markdown",
   "id": "d7529456",
   "metadata": {},
   "source": [
    "Build model pipeline."
   ]
  },
  {
   "cell_type": "code",
   "execution_count": null,
   "id": "e461b9a4",
   "metadata": {},
   "outputs": [],
   "source": [
    "pipeline = Pipeline(\n",
    "    [\n",
    "        (\n",
    "            \"StandardScaler\",\n",
    "            StandardScaler(\n",
    "                input_cols=[\n",
    "                    '\"AccountWeeks\"',\n",
    "                    '\"ContractRenewal\"',\n",
    "                    '\"DataPlan\"',\n",
    "                    '\"DataUsage\"',\n",
    "                    '\"CustServCalls\"',\n",
    "                    '\"DayMins\"',\n",
    "                    '\"MonthlyCharge\"',\n",
    "                    '\"DayCalls\"',\n",
    "                    '\"RoamMins\"',\n",
    "                    '\"OverageFee\"',\n",
    "                ],\n",
    "                output_cols=[\n",
    "                    '\"AccountWeeks\"',\n",
    "                    '\"ContractRenewal\"',\n",
    "                    '\"DataPlan\"',\n",
    "                    '\"DataUsage\"',\n",
    "                    '\"CustServCalls\"',\n",
    "                    '\"DayMins\"',\n",
    "                    '\"MonthlyCharge\"',\n",
    "                    '\"DayCalls\"',\n",
    "                    '\"RoamMins\"',\n",
    "                    '\"OverageFee\"',\n",
    "                ],\n",
    "                with_mean=True,\n",
    "                with_std=True,\n",
    "            ),\n",
    "        ),\n",
    "        (\n",
    "            \"XGBClassifier\",\n",
    "            XGBClassifier(\n",
    "                input_cols=[\n",
    "                    '\"AccountWeeks\"',\n",
    "                    '\"ContractRenewal\"',\n",
    "                    '\"DataPlan\"',\n",
    "                    '\"DataUsage\"',\n",
    "                    '\"CustServCalls\"',\n",
    "                    '\"DayMins\"',\n",
    "                    '\"MonthlyCharge\"',\n",
    "                    '\"DayCalls\"',\n",
    "                    '\"RoamMins\"',\n",
    "                    '\"OverageFee\"',\n",
    "                ],\n",
    "                label_cols=['\"Churn\"'],\n",
    "                output_cols=['\"OUTPUT_Churn\"'],\n",
    "            ),\n",
    "        ),\n",
    "    ]\n",
    ")\n"
   ]
  },
  {
   "cell_type": "markdown",
   "id": "05db4c97",
   "metadata": {},
   "source": [
    "To perform hyperparameter tuning in the pipeline, replace the final estimator step with the following code.\n",
    "This is runnable example code containing a possible grid of hyperparameter combinations.\n",
    "To learn more about GridSearchCV take a look at the [docs](https://docs.snowflake.com/en/developer-guide/snowpark-ml/reference/latest/api/modeling/snowflake.ml.modeling.model_selection.GridSearchCV).\n",
    "\n",
    "```python\n",
    "(\n",
    "    \"GridSearchCV\",\n",
    "    GridSearchCV(\n",
    "        estimator=XGBClassifier(),\n",
    "        param_grid={\n",
    "            \"n_estimators\": [100, 200, 300],\n",
    "            \"max_depth\": [3, 4, 5],\n",
    "            \"learning_rate\": [0.1, 0.01, 0.001],\n",
    "        },\n",
    "        input_cols=[\n",
    "            '\"AccountWeeks\"',\n",
    "            '\"ContractRenewal\"',\n",
    "            '\"DataPlan\"',\n",
    "            '\"DataUsage\"',\n",
    "            '\"CustServCalls\"',\n",
    "            '\"DayMins\"',\n",
    "            '\"MonthlyCharge\"',\n",
    "            '\"DayCalls\"',\n",
    "            '\"RoamMins\"',\n",
    "            '\"OverageFee\"',\n",
    "        ],\n",
    "        label_cols=['\"Churn\"'],\n",
    "        output_cols=['\"OUTPUT_Churn\"'],\n",
    "        passthrough_cols=[],\n",
    "        sample_weight_col=None,\n",
    "    ),\n",
    ")\n"
   ]
  },
  {
   "cell_type": "markdown",
   "id": "280d6afa",
   "metadata": {},
   "source": [
    "Fit the pipeline on training data"
   ]
  },
  {
   "cell_type": "code",
   "execution_count": null,
   "id": "75160553",
   "metadata": {},
   "outputs": [],
   "source": [
    "pipeline.fit(train_df)"
   ]
  },
  {
   "cell_type": "markdown",
   "id": "4347cf94",
   "metadata": {},
   "source": [
    "Predict on Test set."
   ]
  },
  {
   "cell_type": "code",
   "execution_count": null,
   "id": "fd18f980",
   "metadata": {},
   "outputs": [],
   "source": [
    "result = pipeline.predict(train_df)"
   ]
  },
  {
   "cell_type": "markdown",
   "id": "23a18553",
   "metadata": {},
   "source": [
    "Review the results."
   ]
  },
  {
   "cell_type": "code",
   "execution_count": null,
   "id": "7d1ed0b4",
   "metadata": {},
   "outputs": [],
   "source": [
    "result.show()"
   ]
  },
  {
   "cell_type": "markdown",
   "id": "58f13991",
   "metadata": {},
   "source": [
    "Log the model to the registry."
   ]
  },
  {
   "cell_type": "code",
   "execution_count": null,
   "id": "398210a3",
   "metadata": {},
   "outputs": [],
   "source": [
    "reg = Registry(session, database_name=\"CHURN_PROD\", schema_name=\"ANALYTICS\")\n",
    "reg.log_model(model_name=\"QuickChurnModelNotebok_ML_SIDEKICK\", model=pipeline)"
   ]
  },
  {
   "cell_type": "code",
   "execution_count": null,
   "id": "884519e0",
   "metadata": {},
   "outputs": [],
   "source": [
    "reg.get_model(\"QuickChurnModelNotebok_ML_SIDEKICK\").show_versions()"
   ]
  }
 ],
 "metadata": {},
 "nbformat": 4,
 "nbformat_minor": 5
}
