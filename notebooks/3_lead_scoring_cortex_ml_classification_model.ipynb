{
 "metadata": {
  "kernelspec": {
   "display_name": "Python 3 (ipykernel)",
   "language": "python",
   "name": "python3"
  },
  "language_info": {
   "codemirror_mode": {
    "name": "ipython",
    "version": 3
   },
   "file_extension": ".py",
   "mimetype": "text/x-python",
   "name": "python",
   "nbconvert_exporter": "python",
   "pygments_lexer": "ipython3",
   "version": "3.11.5"
  }
 },
 "nbformat_minor": 5,
 "nbformat": 4,
 "cells": [
  {
   "cell_type": "markdown",
   "id": "430ebdf6-dab3-4096-aec8-26c9fe17f603",
   "metadata": {
    "collapsed": false,
    "name": "Doc1"
   },
   "source": [
    "# Prepare data and create the model\n",
    "\n",
    "Now we have data that mimics what we might have after a company has created a Customer 360. We have demographic data and a total of all orders the customer has placed, where that total is a function of the demographic data we have gathered. Next, we will create a view which will represent the data used to train the value, then we will create the model.\n",
    "\n",
    "## Create training data view\n",
    "\n",
    "We run the following to create a view which limits the columns selected (we do not use the email address or the join date), and we limit only to the longer-term customers who will be used to train the model. Finally, we bucket customers into bronze, silver, and gold groups using the total order value column."
   ]
  },
  {
   "cell_type": "code",
   "execution_count": null,
   "id": "c695373e-ac74-4b62-a1f1-08206cbd5c81",
   "metadata": {
    "codeCollapsed": false,
    "collapsed": true,
    "jupyter": {
     "outputs_hidden": true
    },
    "language": "python",
    "name": "PythonImports"
   },
   "outputs": [],
   "source": [
    "from snowflake.snowpark.context import get_active_session"
   ]
  },
  {
   "cell_type": "code",
   "execution_count": null,
   "id": "bd74b6b0-2c12-41e1-beed-b0f4bc096d47",
   "metadata": {
    "name": "CreateSession",
    "language": "python",
    "codeCollapsed": false
   },
   "outputs": [],
   "source": [
    "session = get_active_session()"
   ]
  },
  {
   "cell_type": "code",
   "execution_count": null,
   "id": "49a319b2-a64c-40d1-9c1a-05d0ac515f1c",
   "metadata": {
    "name": "CreatingTrainingView",
    "language": "sql",
    "codeCollapsed": false
   },
   "outputs": [],
   "source": [
    "-- create a view to train the model\n",
    "create or replace view customer_training\n",
    "as select age_band, household_income, marital_status, household_size, case when total_order_value<10 then 'BRONZE'\n",
    "    when total_order_value<=25 and total_order_value>10 then 'SILVER'\n",
    "    else 'GOLD' END as segment\n",
    "from customers\n",
    "where join_date<'2024-02-11'::date;"
   ]
  },
  {
   "cell_type": "code",
   "execution_count": null,
   "id": "bfb597b1-7fb0-4cd8-978b-2db810077f8d",
   "metadata": {
    "name": "VerifyView",
    "language": "sql",
    "codeCollapsed": false
   },
   "outputs": [],
   "source": "-- verify the training view\nselect * from customer_training LIMIT 10;"
  },
  {
   "cell_type": "markdown",
   "id": "f5231607-29a0-4b3d-b530-4955be1b2f07",
   "metadata": {
    "name": "Doc2",
    "collapsed": false
   },
   "source": [
    "## Build the model\n",
    "We can create the classification model by running the following statement."
   ]
  },
  {
   "cell_type": "code",
   "execution_count": null,
   "id": "4eeebca5-e828-442a-8dbd-806e4b35c096",
   "metadata": {
    "name": "CreateClassificationModel",
    "language": "sql",
    "codeCollapsed": false
   },
   "outputs": [],
   "source": [
    "-- create the classification model\n",
    "CREATE OR REPLACE SNOWFLAKE.ML.CLASSIFICATION customer_classification_model(\n",
    "    INPUT_DATA => SYSTEM$REFERENCE('view', 'customer_training'),\n",
    "    TARGET_COLNAME => 'segment'\n",
    ");\n"
   ]
  },
  {
   "cell_type": "markdown",
   "id": "0d8354aa-650a-4456-a44d-f02ebcf023dd",
   "metadata": {
    "name": "Doc3",
    "collapsed": false
   },
   "source": [
    "Notice that we point the model at the view we created, and we specify the column containing the bronze, silver, or gold segmentation. We can verify that the model is created by running the following."
   ]
  },
  {
   "cell_type": "code",
   "execution_count": null,
   "id": "1f801df1-dca3-4cdb-8e47-8c80224fc000",
   "metadata": {
    "name": "ShowModel",
    "language": "sql"
   },
   "outputs": [],
   "source": [
    "SHOW SNOWFLAKE.ML.CLASSIFICATION;"
   ]
  },
  {
   "cell_type": "markdown",
   "id": "c94ebb0e-62c5-43ac-8262-765ac0511996",
   "metadata": {
    "name": "Doc4",
    "collapsed": false
   },
   "source": [
    "## Save the model predictions to a table\n",
    "\n",
    "Next, we will run the predictions across our entire customers table, saving the results to a table with the email address, allowing us to join later, when we use the predictions to build audiences.\n"
   ]
  },
  {
   "cell_type": "code",
   "execution_count": null,
   "id": "e5647b78-32f0-4829-8cd2-5ad19f8c9c03",
   "metadata": {
    "name": "CreatePredictionTable",
    "language": "sql",
    "codeCollapsed": false
   },
   "outputs": [],
   "source": [
    "-- run prediction and save results\n",
    "CREATE OR REPLACE TABLE customer_predictions AS\n",
    "SELECT email, customer_classification_model!PREDICT(INPUT_DATA => object_construct(*)) as predictions\n",
    "from customers;"
   ]
  },
  {
   "cell_type": "markdown",
   "id": "6f6a863a-08ea-47a3-bd36-de3b382209eb",
   "metadata": {
    "name": "Doc5",
    "collapsed": false
   },
   "source": [
    "Next we can run the following query to verify that our predictions have been made correctly.\n"
   ]
  },
  {
   "cell_type": "code",
   "execution_count": null,
   "id": "650a1793-e185-4e57-ac99-22f708f68a2b",
   "metadata": {
    "name": "VerifyPredictions",
    "language": "sql",
    "codeCollapsed": false
   },
   "outputs": [],
   "source": "-- verify the created predictions\nSELECT * FROM customer_predictions LIMIT 10;"
  },
  {
   "cell_type": "markdown",
   "id": "4ee2a2bf-3f28-4cfe-8d2a-66798257badf",
   "metadata": {
    "name": "Doc6",
    "collapsed": false
   },
   "source": [
    "## Creating audiences\n",
    "\n",
    "Once we have run these predictions, we can use the predictions to build audiences. In some flows, the audiences could be saved, or a reverse ETL tool might query for them directly. The email addresses could be used to activate the audiences across both paid (social, CTV or programmatic platforms) or owned (email, website) marketing channels.\n",
    "\n",
    "## High-value new customers\n",
    "\n",
    "The following query can now be run to create a list of new customers who are likely to become \"GOLD\" customers in the future.\n"
   ]
  },
  {
   "cell_type": "code",
   "execution_count": null,
   "id": "d35579cf-2382-400c-a42a-1056ebee4cbd",
   "metadata": {
    "name": "GoldCustomers",
    "language": "sql",
    "codeCollapsed": false
   },
   "outputs": [],
   "source": "-- new customers likely to be gold\nselect c.email\nfrom customers c\n inner join customer_predictions p on c.email=p.email\nwhere c.join_date>='2024-02-11'::date and predictions:class='GOLD'\nlimit 10;"
  },
  {
   "cell_type": "markdown",
   "id": "836005dd-4992-4196-8196-307d7675548a",
   "metadata": {
    "name": "Doc7",
    "collapsed": false
   },
   "source": "If we wanted to customize the confidence at which we want to consider them likely gold customers, we could use the probabilities saved in the predictions.\n\nThis list of users might be a list we consider worthy of additional marketing, and we may be willing to pay more to show ads to this audience. We also might email this group a coupon code, for instance, to drive to drive additional purchases in the hope that they become regular, loyal customers.\n\n## Underutilized existing customers\n\nThe usage of the model is not limited only to new customers. We can also use the model to find existing customers who, although they are not gold, are similar to customers who are. This could indicate an opportunity to reach out these customers across channels to drive additional purchases.\n"
  },
  {
   "cell_type": "code",
   "execution_count": null,
   "id": "d053e2d5-dce9-414d-9736-c8b076eb6b5b",
   "metadata": {
    "name": "ShouldBeGold",
    "language": "sql",
    "codeCollapsed": false
   },
   "outputs": [],
   "source": "-- old customers who are not gold but should be\nselect c.email\nfrom customers c\n inner join customer_predictions p on c.email=p.email\nwhere c.join_date<'2024-02-11'::date and predictions:class='GOLD'\n and c.total_order_value<=25;"
  }
 ]
}