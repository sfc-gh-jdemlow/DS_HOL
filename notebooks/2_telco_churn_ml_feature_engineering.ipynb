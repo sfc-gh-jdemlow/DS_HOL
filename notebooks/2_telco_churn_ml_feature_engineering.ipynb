{
 "metadata": {
  "kernelspec": {
   "display_name": "Python 3 (ipykernel)",
   "language": "python",
   "name": "python3"
  },
  "language_info": {
   "codemirror_mode": {
    "name": "ipython",
    "version": 3
   },
   "file_extension": ".py",
   "mimetype": "text/x-python",
   "name": "python",
   "nbconvert_exporter": "python",
   "pygments_lexer": "ipython3",
   "version": "3.11.5"
  }
 },
 "nbformat_minor": 5,
 "nbformat": 4,
 "cells": [
  {
   "cell_type": "markdown",
   "id": "430ebdf6-dab3-4096-aec8-26c9fe17f603",
   "metadata": {
    "collapsed": false,
    "name": "Doc1"
   },
   "source": [
    "# :chart_with_upwards_trend: Telco Churn Model - Part 2 (Feature Engineering)\n",
    "\n",
    "### Please run the first Notebook fully before running this second Notebook.\n",
    "\n",
    "### First, add the `imbalanced-learn`, `snowflake-ml-python`, `altair`, `pandas`, and `numpy` packages from the package picker on the top right. We will be using these packages later in the notebook.\n",
    "\n",
    "To prepare our data for our model, we'll need to handle the imbalanced data problem by upsampling our dataset. \n",
    "\n",
    "For this, we'll be using the `SMOTE` algorithm from the `imblearn` package."
   ]
  },
  {
   "cell_type": "code",
   "execution_count": null,
   "id": "c695373e-ac74-4b62-a1f1-08206cbd5c81",
   "metadata": {
    "codeCollapsed": false,
    "collapsed": true,
    "jupyter": {
     "outputs_hidden": true
    },
    "language": "python",
    "name": "PythonImports"
   },
   "outputs": [],
   "source": [
    "import pandas as pd\n",
    "import numpy as np\n",
    "import streamlit as st\n",
    "import altair as alt\n",
    "from imblearn.over_sampling import SMOTE \n",
    "\n",
    "import warnings\n",
    "warnings.filterwarnings(\"ignore\")\n",
    "\n",
    "from snowflake.snowpark.context import get_active_session\n",
    "session = get_active_session()\n",
    "\n",
    "# Saving telco_churn_pdf into variable from Snowflake\n",
    "telco_churn_pdf = session.sql(\"SELECT * FROM TELCO_CHURN_PDF\").to_pandas()\n",
    "\n",
    "# Extract the training features\n",
    "features_names = [col for col in telco_churn_pdf.columns if col not in ['Churn']]\n",
    "features = telco_churn_pdf[features_names]"
   ]
  },
  {
   "cell_type": "code",
   "execution_count": null,
   "id": "724d93b3-5038-4da4-8a1c-aec13c0bf582",
   "metadata": {
    "name": "PreviewData",
    "language": "python",
    "codeCollapsed": false
   },
   "outputs": [],
   "source": [
    "# extract the target\n",
    "target = telco_churn_pdf['Churn']\n",
    "st.markdown(\"## Lets balance the dataset.\")\n",
    "# upsample the minority class in the dataset\n",
    "upsampler = SMOTE(random_state = 111)\n",
    "features, target = upsampler.fit_resample(features, target)\n",
    "st.dataframe(features.head())\n",
    "\n",
    "st.markdown(\"## Upsampled data.\")\n",
    "upsampled_data = pd.concat([features, target], axis=1)\n",
    "upsampled_data.reset_index(inplace=True)\n",
    "upsampled_data.rename(columns={'index': 'INDEX'}, inplace=True)\n",
    "st.dataframe(upsampled_data.head())\n",
    "\n",
    "st.markdown(\"## Preview of upsampled data.\")\n",
    "upsampled_data = session.create_dataframe(upsampled_data)\n",
    "# Get the list of column names from the dataset\n",
    "feature_names_input = [c for c in upsampled_data.columns if c != '\"Churn\"' and c != \"INDEX\"]\n",
    "upsampled_data[feature_names_input]"
   ]
  },
  {
   "cell_type": "markdown",
   "id": "9a1f5f7f-777a-4f26-82cc-213b6b3c04e0",
   "metadata": {
    "collapsed": false,
    "name": "Doc2"
   },
   "source": [
    "Once that's taken care of, we'll use scikit-learn to preprocess our data into a format that the model expects. This means scaling our features and splitting our data into training and testing datasets.\n",
    "\n",
    "We can perform StandardScaler preprocessing via sklearn to process in-memory or Snowpark ML preprocessing for pushdown compute.\n",
    "\n",
    "## Sci-kit learn Preprocessing with Pandas DataFrames"
   ]
  },
  {
   "cell_type": "code",
   "execution_count": null,
   "id": "f9533336-f5d3-461c-aa75-b604e23e44c1",
   "metadata": {
    "codeCollapsed": false,
    "collapsed": false,
    "jupyter": {
     "outputs_hidden": false
    },
    "language": "python",
    "name": "SKlearn_ScaleData"
   },
   "outputs": [],
   "source": [
    "import sklearn.preprocessing as pp_original\n",
    "# Initialize a StandardScaler object with input and output column names\n",
    "scaler = pp_original.StandardScaler()\n",
    "features_pdf = upsampled_data[feature_names_input].to_pandas()\n",
    "\n",
    "# Fit the scaler to the dataset\n",
    "scaler.fit(features_pdf)\n",
    "\n",
    "# Transform the dataset using the fitted scaler\n",
    "scaled_features = scaler.transform(features_pdf)\n",
    "scaled_features = pd.DataFrame(scaled_features, columns = features_names)\n",
    "scaled_features"
   ]
  },
  {
   "cell_type": "markdown",
   "id": "83a35603-423c-4da8-9e4c-cb9d77c2e081",
   "metadata": {
    "collapsed": false,
    "name": "Doc3"
   },
   "source": [
    "## Snowpark ML preprocessing with Snowpark \n",
    "\n",
    "Note the similarity between the APIs used for sklearn and Snowpark ML."
   ]
  },
  {
   "cell_type": "code",
   "execution_count": null,
   "id": "fa37e57b-9410-47d8-9d88-d3d3438f3469",
   "metadata": {
    "codeCollapsed": false,
    "collapsed": false,
    "jupyter": {
     "outputs_hidden": false
    },
    "language": "python",
    "name": "SF_ML_ScaleData"
   },
   "outputs": [],
   "source": [
    "import snowflake.ml.modeling.preprocessing as pp\n",
    "\n",
    "# Initialize a StandardScaler object with input and output column names\n",
    "scaler = pp.StandardScaler(\n",
    "    input_cols=feature_names_input,\n",
    "    output_cols=feature_names_input\n",
    ")\n",
    "\n",
    "# Fit the scaler to the dataset\n",
    "scaler.fit(upsampled_data)\n",
    "\n",
    "# Transform the dataset using the fitted scaler\n",
    "scaled_features = scaler.transform(upsampled_data)\n",
    "scaled_features"
   ]
  },
  {
   "cell_type": "markdown",
   "id": "410681cf-c3b1-47dd-9b58-85c2b2afbc8f",
   "metadata": {
    "collapsed": false,
    "name": "Doc4"
   },
   "source": [
    "## Let's perform the train test split using 80/20."
   ]
  },
  {
   "cell_type": "code",
   "execution_count": null,
   "id": "589337dc-d674-40d6-9b73-a9d35fa28086",
   "metadata": {
    "codeCollapsed": false,
    "collapsed": false,
    "jupyter": {
     "outputs_hidden": false
    },
    "language": "python",
    "name": "SF_Split_Data"
   },
   "outputs": [],
   "source": [
    "# Split the scaled_features dataset into training and testing sets with an 80/20 ratio\n",
    "training, testing = scaled_features.random_split(weights=[0.8, 0.2], seed=111)"
   ]
  },
  {
   "cell_type": "markdown",
   "id": "fd84cf31-4ae6-4f9b-a805-cad7f0d1c38e",
   "metadata": {
    "collapsed": false,
    "name": "Doc5"
   },
   "source": [
    "# Model Training - Random Forest Classifier \n",
    "\n",
    "The mystery model of the day is a [random forest classifier](https://towardsdatascience.com/understanding-random-forest-58381e0602d2). I'll spare you the details on how it works, but in short, it creates an ensemble of smaller models that all make predictions on the same data. Whichever prediction has the most votes is the final prediction that the model goes with."
   ]
  },
  {
   "cell_type": "code",
   "execution_count": null,
   "id": "15803558-604a-4312-b838-46c71ec74bf3",
   "metadata": {
    "codeCollapsed": false,
    "collapsed": false,
    "jupyter": {
     "outputs_hidden": false
    },
    "language": "python",
    "name": "SF_ML_RF_Model"
   },
   "outputs": [],
   "source": [
    "from snowflake.ml.modeling.ensemble import RandomForestClassifier\n",
    "\n",
    "# Define the target variable (label) column name\n",
    "label = ['\"Churn\"']\n",
    "\n",
    "# Define the output column name for the predicted label\n",
    "output_label = ['\"predicted_churn\"']\n",
    "\n",
    "# Initialize a RandomForestClassifier object with input, label, and output column names\n",
    "model = RandomForestClassifier(\n",
    "    input_cols=feature_names_input,\n",
    "    label_cols=label,\n",
    "    output_cols=output_label,\n",
    ")\n",
    "\n",
    "# Train the RandomForestClassifier model using the training set\n",
    "_ = model.fit(training)\n",
    "\n",
    "# Predict the target variable (churn) for the testing set using the trained model\n",
    "results = model.predict(testing)\n",
    "\n",
    "testing"
   ]
  },
  {
   "cell_type": "markdown",
   "id": "701cf188-e74f-4de6-8f56-1569879ac2d4",
   "metadata": {
    "collapsed": false,
    "name": "Doc6"
   },
   "source": [
    "# Model Evaluation\n",
    "\n",
    "Model evaluation is all about checking how well our machine learning model is doing by comparing its predictions to the actual outcomes. "
   ]
  },
  {
   "cell_type": "code",
   "execution_count": null,
   "id": "8cc8f6c8-5d53-4608-a56d-e0e959a27bd0",
   "metadata": {
    "codeCollapsed": false,
    "collapsed": false,
    "jupyter": {
     "outputs_hidden": false
    },
    "language": "python",
    "name": "Results_To_Pandas"
   },
   "outputs": [],
   "source": [
    "# return only the predicted churn values\n",
    "predictions = results.to_pandas().sort_values(\"INDEX\")[output_label].astype(int).to_numpy().flatten()\n",
    "actual = testing.to_pandas().sort_values(\"INDEX\")[['Churn']].to_numpy().flatten()"
   ]
  },
  {
   "cell_type": "markdown",
   "id": "e9fd435b-b357-4d86-bc00-976884b9d590",
   "metadata": {
    "collapsed": false,
    "name": "cell14"
   },
   "source": [
    "## Feature Importance\n",
    "\n",
    "Feature importance is all about figuring out which input variables are the real MVPs when it comes to making predictions with our machine learning model. We'll find out which features are the most important by looking at how much they contribute to the model's overall performance."
   ]
  },
  {
   "cell_type": "code",
   "execution_count": null,
   "id": "418c65c8-c6f2-4a63-b8cd-9c139a395a11",
   "metadata": {
    "codeCollapsed": false,
    "collapsed": false,
    "jupyter": {
     "outputs_hidden": false
    },
    "language": "python",
    "name": "Model_To_Sklearn"
   },
   "outputs": [],
   "source": [
    "rf = model.to_sklearn()\n",
    "importances = pd.DataFrame(\n",
    "    list(zip(features.columns, rf.feature_importances_)),\n",
    "    columns=[\"feature\", \"importance\"],\n",
    ")\n",
    "\n",
    "bar_chart = alt.Chart(importances).mark_bar().encode(\n",
    "    x=\"importance:Q\",\n",
    "    y=alt.Y(\"feature:N\", sort=\"-x\")\n",
    ")\n",
    "st.altair_chart(bar_chart, use_container_width=True)"
   ]
  },
  {
   "cell_type": "markdown",
   "id": "14786be8-22bc-46e5-af3b-4ef55846a3aa",
   "metadata": {
    "name": "Doc7",
    "collapsed": false
   },
   "source": [
    "## Predicting churn for a new user\n",
    "Using our trained random forest model, we can make predictions that tell us whether a new customer will churn or not."
   ]
  },
  {
   "cell_type": "code",
   "execution_count": null,
   "id": "fec783ba-b714-496f-8c17-bd4ce5abfe4a",
   "metadata": {
    "name": "CreateFakeCustomer",
    "language": "python"
   },
   "outputs": [],
   "source": [
    "account_weeks = \"10\"\n",
    "data_usage = \"1.7\"\n",
    "mins_per_month = \"82\"\n",
    "daytime_calls = \"67\"\n",
    "customer_service_calls = \"4\"\n",
    "monthly_charge = \"37\"\n",
    "roam_mins = \"0\"\n",
    "overage_fee = \"9.5\"\n",
    "renewed_contract = \"true\"\n",
    "has_data_plan = \"true\"\n",
    "user_vector = np.array([\n",
    "    account_weeks,\n",
    "    1 if renewed_contract else 0,\n",
    "    1 if has_data_plan else 0,\n",
    "    data_usage,\n",
    "    customer_service_calls,\n",
    "    mins_per_month,\n",
    "    daytime_calls,\n",
    "    monthly_charge,\n",
    "    overage_fee,\n",
    "    roam_mins,\n",
    "]).reshape(1,-1)\n",
    "\n",
    "user_dataframe = pd.DataFrame(user_vector, columns=[f'\"{_}\"' for _ in features.columns])"
   ]
  },
  {
   "cell_type": "markdown",
   "id": "1a6135b7-ee25-45cb-b8a8-024a5fcf5e6d",
   "metadata": {
    "name": "Doc8"
   },
   "source": [
    "#### Input dataframe for new user"
   ]
  },
  {
   "cell_type": "code",
   "execution_count": null,
   "id": "76440355-2be0-456a-ac41-e4f307399f51",
   "metadata": {
    "name": "ViewCustomer",
    "language": "python"
   },
   "outputs": [],
   "source": [
    "st.markdown(\"#### New user\")\n",
    "user_dataframe\n",
    "user_vector = scaler.transform(user_dataframe)\n",
    "st.markdown(\"#### Churn prediction\")\n",
    "model.predict(user_vector)[['\"predicted_churn\"']].values"
   ]
  },
  {
   "cell_type": "code",
   "execution_count": null,
   "id": "0cea4def-037e-4acc-815e-fafe69a15d80",
   "metadata": {
    "name": "PredictCustomer",
    "language": "python",
    "codeCollapsed": false
   },
   "outputs": [],
   "source": [
    "st.markdown(\"#### Scaled dataframe for new user\")\n",
    "st.dataframe(user_vector)\n",
    "st.markdown(\"#### Prediction\")\n",
    "predicted_value = model.predict(user_vector)[['\"predicted_churn\"']].values.astype(int).flatten()\n",
    "user_probability = model.predict_proba(user_vector)\n",
    "probability_of_prediction = max(user_probability[user_probability.columns[-2:]].values[0]) * 100\n",
    "prediction = 'churn' if predicted_value == 1 else 'not churn'\n",
    "st.markdown(prediction)"
   ]
  },
  {
   "cell_type": "code",
   "execution_count": null,
   "id": "d294a3bf-b75c-4b84-a641-433f2657ec62",
   "metadata": {
    "name": "AdjustCustomer",
    "language": "python"
   },
   "outputs": [],
   "source": [
    "col1, col2 = st.columns(2)\n",
    "\n",
    "with col1: \n",
    "    account_weeks = st.slider(\"AccountWeeks\", int(features[\"AccountWeeks\"].min()) , int(features[\"AccountWeeks\"].max()))\n",
    "    data_usage = st.slider(\"DataUsage\", int(features[\"DataUsage\"].min()) , int(features[\"DataUsage\"].max()))\n",
    "    mins_per_month = st.slider(\"DayMins\", int(features[\"DayMins\"].min()) , int(features[\"DayMins\"].max()))\n",
    "    daytime_calls = st.slider(\"DayCalls\", int(features[\"DayCalls\"].min()) , int(features[\"DayCalls\"].max()))\n",
    "    renewed_contract =  st.selectbox(\"Renewed Contract?\",('true','false'))\n",
    "    \n",
    "with col2: \n",
    "    monthly_charge = st.slider(\"MonthlyCharge\", int(features[\"MonthlyCharge\"].min()) , int(features[\"MonthlyCharge\"].max()))\n",
    "    roam_mins = st.slider(\"RoamMins\", int(features[\"RoamMins\"].min()) , int(features[\"RoamMins\"].max()))\n",
    "    customer_service_calls = st.slider(\"CustServCalls\", int(features[\"CustServCalls\"].min()) , int(features[\"CustServCalls\"].max()))\n",
    "    overage_fee = st.slider(\"OverageFee\", int(features[\"OverageFee\"].min()) , int(features[\"OverageFee\"].max()))\n",
    "    has_data_plan = st.selectbox(\"Has Data Plan?\",('true','false'))\n",
    "\n",
    "user_vector = np.array([\n",
    "    account_weeks,\n",
    "    1 if renewed_contract else 0,\n",
    "    1 if has_data_plan else 0,\n",
    "    data_usage,\n",
    "    customer_service_calls,\n",
    "    mins_per_month,\n",
    "    daytime_calls,\n",
    "    monthly_charge,\n",
    "    overage_fee,\n",
    "    roam_mins,\n",
    "]).reshape(1,-1)\n",
    "\n",
    "user_dataframe = pd.DataFrame(user_vector, columns=[f'\"{_}\"' for _ in features.columns])\n",
    "user_vector = scaler.transform(user_dataframe)\n",
    "with col1: \n",
    "    st.markdown(\"#### Input dataframe for new user\")\n",
    "    st.dataframe(user_dataframe)\n",
    "with col2:\n",
    "    st.markdown(\"#### Scaled dataframe for new user\")\n",
    "    st.dataframe(user_vector)\n",
    "\n",
    "st.markdown(\"#### Prediction\")\n",
    "predicted_value = model.predict(user_vector)[['\"predicted_churn\"']].values.astype(int).flatten()\n",
    "user_probability = model.predict_proba(user_vector)\n",
    "probability_of_prediction = max(user_probability[user_probability.columns[-2:]].values[0]) * 100\n",
    "prediction = 'churn' if predicted_value == 1 else 'not churn'\n",
    "st.markdown(prediction)"
   ]
  },
  {
   "cell_type": "markdown",
   "id": "f619b75a-558a-492c-b4b0-59f12b468d8e",
   "metadata": {
    "name": "cell22",
    "collapsed": false
   },
   "source": [
    "## Exporting Model with Timestamp"
   ]
  },
  {
   "cell_type": "code",
   "execution_count": null,
   "id": "10aa56b7-0ac6-4cc3-940c-e4ce82e29a32",
   "metadata": {
    "name": "cell23",
    "language": "python"
   },
   "outputs": [],
   "source": [
    "import pickle\n",
    "import datetime\n",
    "filename = f'telco-eda-model-{datetime.datetime.now()}.pkl'\n",
    "\n",
    "pickle.dump(model, open(filename,'wb'))\n",
    "print(f\"Saved to {filename}\")"
   ]
  },
  {
   "cell_type": "markdown",
   "id": "d782e915-29fc-4569-9565-f31ff9cfc485",
   "metadata": {
    "name": "cell24",
    "collapsed": false
   },
   "source": [
    "Congratulations on making it to the end of this Lab where we explored churn modeling using Snowflake Notebooks! We learned how to import/load data to Snowflake, train a Random Forest model, visualize predictions, and build an interactive data app, and make predictions for new users.\n"
   ]
  },
  {
   "cell_type": "markdown",
   "id": "c17117d4-2913-45c3-9028-acdc777bb780",
   "metadata": {
    "name": "cell1",
    "collapsed": false
   },
   "source": ""
  }
 ]
}